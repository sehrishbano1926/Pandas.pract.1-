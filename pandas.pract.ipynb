{
 "cells": [
  {
   "cell_type": "code",
   "execution_count": 1,
   "id": "e9aae4ff-e580-49b6-a203-1d08ecd421dd",
   "metadata": {},
   "outputs": [
    {
     "name": "stdout",
     "output_type": "stream",
     "text": [
      "Requirement already satisfied: pandas in c:\\users\\motomote\\appdata\\local\\programs\\python\\python312\\lib\\site-packages (2.2.2)\n",
      "Requirement already satisfied: numpy>=1.26.0 in c:\\users\\motomote\\appdata\\local\\programs\\python\\python312\\lib\\site-packages (from pandas) (2.0.0)\n",
      "Requirement already satisfied: python-dateutil>=2.8.2 in c:\\users\\motomote\\appdata\\local\\programs\\python\\python312\\lib\\site-packages (from pandas) (2.9.0.post0)\n",
      "Requirement already satisfied: pytz>=2020.1 in c:\\users\\motomote\\appdata\\local\\programs\\python\\python312\\lib\\site-packages (from pandas) (2024.1)\n",
      "Requirement already satisfied: tzdata>=2022.7 in c:\\users\\motomote\\appdata\\local\\programs\\python\\python312\\lib\\site-packages (from pandas) (2024.1)\n",
      "Requirement already satisfied: six>=1.5 in c:\\users\\motomote\\appdata\\local\\programs\\python\\python312\\lib\\site-packages (from python-dateutil>=2.8.2->pandas) (1.16.0)\n"
     ]
    },
    {
     "name": "stderr",
     "output_type": "stream",
     "text": [
      "\n",
      "[notice] A new release of pip is available: 24.0 -> 24.1.1\n",
      "[notice] To update, run: python.exe -m pip install --upgrade pip\n"
     ]
    }
   ],
   "source": [
    "!pip install pandas\n"
   ]
  },
  {
   "cell_type": "markdown",
   "id": "acdcd5e9-b67c-4ef6-be14-184e678ab4a0",
   "metadata": {},
   "source": [
    "# DataFrame using pandas"
   ]
  },
  {
   "cell_type": "code",
   "execution_count": 2,
   "id": "c8d7e212-1276-4801-a0ea-aebda23b0c26",
   "metadata": {},
   "outputs": [
    {
     "data": {
      "text/html": [
       "<div>\n",
       "<style scoped>\n",
       "    .dataframe tbody tr th:only-of-type {\n",
       "        vertical-align: middle;\n",
       "    }\n",
       "\n",
       "    .dataframe tbody tr th {\n",
       "        vertical-align: top;\n",
       "    }\n",
       "\n",
       "    .dataframe thead th {\n",
       "        text-align: right;\n",
       "    }\n",
       "</style>\n",
       "<table border=\"1\" class=\"dataframe\">\n",
       "  <thead>\n",
       "    <tr style=\"text-align: right;\">\n",
       "      <th></th>\n",
       "      <th>Toy</th>\n",
       "      <th>price</th>\n",
       "    </tr>\n",
       "  </thead>\n",
       "  <tbody>\n",
       "    <tr>\n",
       "      <th>0</th>\n",
       "      <td>teddy bear</td>\n",
       "      <td>20</td>\n",
       "    </tr>\n",
       "    <tr>\n",
       "      <th>1</th>\n",
       "      <td>robot</td>\n",
       "      <td>40</td>\n",
       "    </tr>\n",
       "    <tr>\n",
       "      <th>2</th>\n",
       "      <td>doll</td>\n",
       "      <td>10</td>\n",
       "    </tr>\n",
       "    <tr>\n",
       "      <th>3</th>\n",
       "      <td>car</td>\n",
       "      <td>50</td>\n",
       "    </tr>\n",
       "  </tbody>\n",
       "</table>\n",
       "</div>"
      ],
      "text/plain": [
       "          Toy  price\n",
       "0  teddy bear     20\n",
       "1       robot     40\n",
       "2        doll     10\n",
       "3         car     50"
      ]
     },
     "execution_count": 2,
     "metadata": {},
     "output_type": "execute_result"
    }
   ],
   "source": [
    "import pandas as pd\n",
    "\n",
    "#creat a dataframe \n",
    "data={\n",
    "    'Toy':['teddy bear', 'robot', 'doll', 'car'],\n",
    "    'price':[20, 40, 10, 50]\n",
    "}\n",
    "\n",
    "#using pandas to create the dataframe\n",
    "toys_df=pd.DataFrame(data)\n",
    "\n",
    "#display \n",
    "toys_df"
   ]
  },
  {
   "cell_type": "markdown",
   "id": "c4cf5e1a-f115-4fe0-9815-4fe955d810f2",
   "metadata": {},
   "source": [
    "# Price of any specific Toy"
   ]
  },
  {
   "cell_type": "code",
   "execution_count": 5,
   "id": "d2236e36-60dd-4092-9e60-0a93536ab887",
   "metadata": {},
   "outputs": [
    {
     "data": {
      "text/plain": [
       "np.int64(40)"
      ]
     },
     "execution_count": 5,
     "metadata": {},
     "output_type": "execute_result"
    }
   ],
   "source": [
    "#finding the price of the robot\n",
    "robot_price=toys_df[toys_df['Toy']=='robot']['price'].iloc[0]\n",
    "robot_price"
   ]
  },
  {
   "cell_type": "code",
   "execution_count": 4,
   "id": "70a73188-e379-4aeb-b8a8-337d0113015e",
   "metadata": {},
   "outputs": [
    {
     "data": {
      "text/plain": [
       "1    40\n",
       "Name: price, dtype: int64"
      ]
     },
     "execution_count": 4,
     "metadata": {},
     "output_type": "execute_result"
    }
   ],
   "source": [
    "robot_price=toys_df[toys_df['Toy']=='robot']['price']\n",
    "robot_price"
   ]
  },
  {
   "cell_type": "markdown",
   "id": "e4c377e2-0d1c-4d7d-aee4-81a59518d42a",
   "metadata": {},
   "source": [
    "# Addition of new Toy with Price"
   ]
  },
  {
   "cell_type": "code",
   "execution_count": 7,
   "id": "35090d15-5751-4928-8be8-569521c09924",
   "metadata": {},
   "outputs": [
    {
     "name": "stdout",
     "output_type": "stream",
     "text": [
      "          Toy  price\n",
      "0  teddy bear     20\n",
      "1       robot     40\n",
      "2        doll     10\n",
      "3         car     50\n",
      "4      mobile    100\n"
     ]
    }
   ],
   "source": [
    "#addition a new toy \n",
    "new_toy={'Toy': 'mobile', 'price': 100}\n",
    "#convert the new toy data into a dataframe\n",
    "new_toys_df=pd.DataFrame([new_toy])\n",
    "\n",
    "toys_df=pd.concat([toys_df, new_toys_df], ignore_index=True)\n",
    "\n",
    "\n",
    "print(toys_df)"
   ]
  },
  {
   "cell_type": "markdown",
   "id": "90e31ba2-8505-45eb-ab36-bf8b9814c48f",
   "metadata": {},
   "source": [
    "# Remove a  Toy from the table "
   ]
  },
  {
   "cell_type": "code",
   "execution_count": 8,
   "id": "38e88e43-bdf2-4863-a450-edf036a7d48b",
   "metadata": {},
   "outputs": [
    {
     "data": {
      "text/html": [
       "<div>\n",
       "<style scoped>\n",
       "    .dataframe tbody tr th:only-of-type {\n",
       "        vertical-align: middle;\n",
       "    }\n",
       "\n",
       "    .dataframe tbody tr th {\n",
       "        vertical-align: top;\n",
       "    }\n",
       "\n",
       "    .dataframe thead th {\n",
       "        text-align: right;\n",
       "    }\n",
       "</style>\n",
       "<table border=\"1\" class=\"dataframe\">\n",
       "  <thead>\n",
       "    <tr style=\"text-align: right;\">\n",
       "      <th></th>\n",
       "      <th>Toy</th>\n",
       "      <th>price</th>\n",
       "    </tr>\n",
       "  </thead>\n",
       "  <tbody>\n",
       "    <tr>\n",
       "      <th>0</th>\n",
       "      <td>teddy bear</td>\n",
       "      <td>20</td>\n",
       "    </tr>\n",
       "    <tr>\n",
       "      <th>1</th>\n",
       "      <td>robot</td>\n",
       "      <td>40</td>\n",
       "    </tr>\n",
       "    <tr>\n",
       "      <th>3</th>\n",
       "      <td>car</td>\n",
       "      <td>50</td>\n",
       "    </tr>\n",
       "    <tr>\n",
       "      <th>4</th>\n",
       "      <td>mobile</td>\n",
       "      <td>100</td>\n",
       "    </tr>\n",
       "  </tbody>\n",
       "</table>\n",
       "</div>"
      ],
      "text/plain": [
       "          Toy  price\n",
       "0  teddy bear     20\n",
       "1       robot     40\n",
       "3         car     50\n",
       "4      mobile    100"
      ]
     },
     "execution_count": 8,
     "metadata": {},
     "output_type": "execute_result"
    }
   ],
   "source": [
    "#remove the doll from the dataframe\n",
    "toys_df=toys_df[toys_df['Toy']!='doll']\n",
    "toys_df"
   ]
  },
  {
   "cell_type": "markdown",
   "id": "0541c8cd-6d63-49e5-8e56-617249f13660",
   "metadata": {},
   "source": [
    "# Sorting the dataframe by the price column"
   ]
  },
  {
   "cell_type": "code",
   "execution_count": 9,
   "id": "4531cf55-6454-48f2-b1d5-595dbd1fcee0",
   "metadata": {},
   "outputs": [
    {
     "data": {
      "text/html": [
       "<div>\n",
       "<style scoped>\n",
       "    .dataframe tbody tr th:only-of-type {\n",
       "        vertical-align: middle;\n",
       "    }\n",
       "\n",
       "    .dataframe tbody tr th {\n",
       "        vertical-align: top;\n",
       "    }\n",
       "\n",
       "    .dataframe thead th {\n",
       "        text-align: right;\n",
       "    }\n",
       "</style>\n",
       "<table border=\"1\" class=\"dataframe\">\n",
       "  <thead>\n",
       "    <tr style=\"text-align: right;\">\n",
       "      <th></th>\n",
       "      <th>Toy</th>\n",
       "      <th>price</th>\n",
       "    </tr>\n",
       "  </thead>\n",
       "  <tbody>\n",
       "    <tr>\n",
       "      <th>0</th>\n",
       "      <td>teddy bear</td>\n",
       "      <td>20</td>\n",
       "    </tr>\n",
       "    <tr>\n",
       "      <th>1</th>\n",
       "      <td>robot</td>\n",
       "      <td>40</td>\n",
       "    </tr>\n",
       "    <tr>\n",
       "      <th>3</th>\n",
       "      <td>car</td>\n",
       "      <td>50</td>\n",
       "    </tr>\n",
       "    <tr>\n",
       "      <th>4</th>\n",
       "      <td>mobile</td>\n",
       "      <td>100</td>\n",
       "    </tr>\n",
       "  </tbody>\n",
       "</table>\n",
       "</div>"
      ],
      "text/plain": [
       "          Toy  price\n",
       "0  teddy bear     20\n",
       "1       robot     40\n",
       "3         car     50\n",
       "4      mobile    100"
      ]
     },
     "execution_count": 9,
     "metadata": {},
     "output_type": "execute_result"
    }
   ],
   "source": [
    "#sorting the dataframe by the price column\n",
    "sort_toys_df=toys_df.sort_values(by='price')\n",
    "\n",
    "sort_toys_df"
   ]
  },
  {
   "cell_type": "markdown",
   "id": "23e24956-c480-4ac9-a5e1-948c6dfade83",
   "metadata": {},
   "source": [
    "# Renaming columne name"
   ]
  },
  {
   "cell_type": "code",
   "execution_count": 10,
   "id": "5f71e1a7-29d2-495d-88dc-478217f39183",
   "metadata": {},
   "outputs": [
    {
     "data": {
      "text/html": [
       "<div>\n",
       "<style scoped>\n",
       "    .dataframe tbody tr th:only-of-type {\n",
       "        vertical-align: middle;\n",
       "    }\n",
       "\n",
       "    .dataframe tbody tr th {\n",
       "        vertical-align: top;\n",
       "    }\n",
       "\n",
       "    .dataframe thead th {\n",
       "        text-align: right;\n",
       "    }\n",
       "</style>\n",
       "<table border=\"1\" class=\"dataframe\">\n",
       "  <thead>\n",
       "    <tr style=\"text-align: right;\">\n",
       "      <th></th>\n",
       "      <th>Toy name</th>\n",
       "      <th>toy price</th>\n",
       "    </tr>\n",
       "  </thead>\n",
       "  <tbody>\n",
       "    <tr>\n",
       "      <th>0</th>\n",
       "      <td>teddy bear</td>\n",
       "      <td>20</td>\n",
       "    </tr>\n",
       "    <tr>\n",
       "      <th>1</th>\n",
       "      <td>robot</td>\n",
       "      <td>40</td>\n",
       "    </tr>\n",
       "    <tr>\n",
       "      <th>3</th>\n",
       "      <td>car</td>\n",
       "      <td>50</td>\n",
       "    </tr>\n",
       "    <tr>\n",
       "      <th>4</th>\n",
       "      <td>mobile</td>\n",
       "      <td>100</td>\n",
       "    </tr>\n",
       "  </tbody>\n",
       "</table>\n",
       "</div>"
      ],
      "text/plain": [
       "     Toy name  toy price\n",
       "0  teddy bear         20\n",
       "1       robot         40\n",
       "3         car         50\n",
       "4      mobile        100"
      ]
     },
     "execution_count": 10,
     "metadata": {},
     "output_type": "execute_result"
    }
   ],
   "source": [
    "#renaming columns in the dataframe\n",
    "rename_toys_df=sort_toys_df.rename(columns={'Toy':'Toy name', 'price': 'toy price'})\n",
    "rename_toys_df"
   ]
  },
  {
   "cell_type": "code",
   "execution_count": 4,
   "id": "e508a755-e6f1-41ff-9f2f-a45c4dd9d0f5",
   "metadata": {},
   "outputs": [
    {
     "data": {
      "text/plain": [
       "{'Toy': ['teddy bear', 'robot', 'doll', 'car'], 'price': [20, 40, 10, 50]}"
      ]
     },
     "execution_count": 4,
     "metadata": {},
     "output_type": "execute_result"
    }
   ],
   "source": [
    "data"
   ]
  },
  {
   "cell_type": "code",
   "execution_count": 11,
   "id": "ddf98336-0815-47aa-8b06-5a46af62bf9a",
   "metadata": {},
   "outputs": [
    {
     "data": {
      "text/html": [
       "<div>\n",
       "<style scoped>\n",
       "    .dataframe tbody tr th:only-of-type {\n",
       "        vertical-align: middle;\n",
       "    }\n",
       "\n",
       "    .dataframe tbody tr th {\n",
       "        vertical-align: top;\n",
       "    }\n",
       "\n",
       "    .dataframe thead th {\n",
       "        text-align: right;\n",
       "    }\n",
       "</style>\n",
       "<table border=\"1\" class=\"dataframe\">\n",
       "  <thead>\n",
       "    <tr style=\"text-align: right;\">\n",
       "      <th></th>\n",
       "      <th>Toy name</th>\n",
       "      <th>toy price</th>\n",
       "    </tr>\n",
       "  </thead>\n",
       "  <tbody>\n",
       "    <tr>\n",
       "      <th>0</th>\n",
       "      <td>teddy bear</td>\n",
       "      <td>20</td>\n",
       "    </tr>\n",
       "    <tr>\n",
       "      <th>1</th>\n",
       "      <td>robot</td>\n",
       "      <td>40</td>\n",
       "    </tr>\n",
       "    <tr>\n",
       "      <th>3</th>\n",
       "      <td>car</td>\n",
       "      <td>50</td>\n",
       "    </tr>\n",
       "    <tr>\n",
       "      <th>4</th>\n",
       "      <td>mobile</td>\n",
       "      <td>100</td>\n",
       "    </tr>\n",
       "  </tbody>\n",
       "</table>\n",
       "</div>"
      ],
      "text/plain": [
       "     Toy name  toy price\n",
       "0  teddy bear         20\n",
       "1       robot         40\n",
       "3         car         50\n",
       "4      mobile        100"
      ]
     },
     "execution_count": 11,
     "metadata": {},
     "output_type": "execute_result"
    }
   ],
   "source": [
    "rename_toys_df"
   ]
  },
  {
   "cell_type": "markdown",
   "id": "8b6ca382-89b7-4937-adda-a9391abe0bfa",
   "metadata": {},
   "source": [
    "# Calculating the Average"
   ]
  },
  {
   "cell_type": "code",
   "execution_count": 13,
   "id": "7c26dfb4-6114-4af3-b1e3-95136647d458",
   "metadata": {},
   "outputs": [
    {
     "data": {
      "text/plain": [
       "np.float64(52.5)"
      ]
     },
     "execution_count": 13,
     "metadata": {},
     "output_type": "execute_result"
    }
   ],
   "source": [
    "Average_price=rename_toys_df['toy price'].mean()\n",
    "Average_price"
   ]
  },
  {
   "cell_type": "markdown",
   "id": "d587d201-105a-49d9-a2a5-a4952f4e686c",
   "metadata": {},
   "source": [
    "# Most expensive toy"
   ]
  },
  {
   "cell_type": "code",
   "execution_count": 20,
   "id": "cc6fe0e8-e1a3-4276-a87e-07b0c3dde4fd",
   "metadata": {},
   "outputs": [
    {
     "data": {
      "text/plain": [
       "np.int64(100)"
      ]
     },
     "execution_count": 20,
     "metadata": {},
     "output_type": "execute_result"
    }
   ],
   "source": [
    "most=rename_toys_df['toy price'].max()\n",
    "most"
   ]
  },
  {
   "cell_type": "code",
   "execution_count": 21,
   "id": "a6a691d1-9ce4-4c60-8833-6ae624df0d23",
   "metadata": {},
   "outputs": [
    {
     "data": {
      "text/html": [
       "<div>\n",
       "<style scoped>\n",
       "    .dataframe tbody tr th:only-of-type {\n",
       "        vertical-align: middle;\n",
       "    }\n",
       "\n",
       "    .dataframe tbody tr th {\n",
       "        vertical-align: top;\n",
       "    }\n",
       "\n",
       "    .dataframe thead th {\n",
       "        text-align: right;\n",
       "    }\n",
       "</style>\n",
       "<table border=\"1\" class=\"dataframe\">\n",
       "  <thead>\n",
       "    <tr style=\"text-align: right;\">\n",
       "      <th></th>\n",
       "      <th>Toy name</th>\n",
       "      <th>toy price</th>\n",
       "    </tr>\n",
       "  </thead>\n",
       "  <tbody>\n",
       "    <tr>\n",
       "      <th>4</th>\n",
       "      <td>mobile</td>\n",
       "      <td>100</td>\n",
       "    </tr>\n",
       "  </tbody>\n",
       "</table>\n",
       "</div>"
      ],
      "text/plain": [
       "  Toy name  toy price\n",
       "4   mobile        100"
      ]
     },
     "execution_count": 21,
     "metadata": {},
     "output_type": "execute_result"
    }
   ],
   "source": [
    "most_expensive=rename_toys_df[rename_toys_df['toy price']==most]\n",
    "most_expensive"
   ]
  },
  {
   "cell_type": "markdown",
   "id": "f82a4ba7-507d-4275-bf8f-23d5fdbf13f6",
   "metadata": {},
   "source": [
    "# Cheapest Toy"
   ]
  },
  {
   "cell_type": "markdown",
   "id": "c21534ad-84e0-4446-90da-54d6c5e20baf",
   "metadata": {},
   "source": [
    "cheap=rename_toys_df['toy price'].min()\n",
    "cheap"
   ]
  },
  {
   "cell_type": "code",
   "execution_count": 26,
   "id": "1f6eac3b-19fb-497a-8249-07eb825c9d07",
   "metadata": {},
   "outputs": [
    {
     "data": {
      "text/html": [
       "<div>\n",
       "<style scoped>\n",
       "    .dataframe tbody tr th:only-of-type {\n",
       "        vertical-align: middle;\n",
       "    }\n",
       "\n",
       "    .dataframe tbody tr th {\n",
       "        vertical-align: top;\n",
       "    }\n",
       "\n",
       "    .dataframe thead th {\n",
       "        text-align: right;\n",
       "    }\n",
       "</style>\n",
       "<table border=\"1\" class=\"dataframe\">\n",
       "  <thead>\n",
       "    <tr style=\"text-align: right;\">\n",
       "      <th></th>\n",
       "      <th>Toy name</th>\n",
       "      <th>toy price</th>\n",
       "    </tr>\n",
       "  </thead>\n",
       "  <tbody>\n",
       "    <tr>\n",
       "      <th>0</th>\n",
       "      <td>teddy bear</td>\n",
       "      <td>20</td>\n",
       "    </tr>\n",
       "  </tbody>\n",
       "</table>\n",
       "</div>"
      ],
      "text/plain": [
       "     Toy name  toy price\n",
       "0  teddy bear         20"
      ]
     },
     "execution_count": 26,
     "metadata": {},
     "output_type": "execute_result"
    }
   ],
   "source": [
    "most_cheap=rename_toys_df[rename_toys_df['toy price']==cheap]\n",
    "most_cheap"
   ]
  },
  {
   "cell_type": "markdown",
   "id": "b56a89ec-eacd-4f70-81e9-2f7d41b89577",
   "metadata": {},
   "source": [
    "# Counting the number of Toys"
   ]
  },
  {
   "cell_type": "code",
   "execution_count": 28,
   "id": "6a8de10b-aa3d-4806-9392-c570b123bc14",
   "metadata": {},
   "outputs": [
    {
     "data": {
      "text/plain": [
       "np.int64(4)"
      ]
     },
     "execution_count": 28,
     "metadata": {},
     "output_type": "execute_result"
    }
   ],
   "source": [
    "number_of_toys=rename_toys_df['Toy name'].count()\n",
    "number_of_toys"
   ]
  },
  {
   "cell_type": "markdown",
   "id": "3598769b-f25f-49a7-974e-83cbdc9653d4",
   "metadata": {},
   "source": [
    "# Apply Discount on all Toys Prices"
   ]
  },
  {
   "cell_type": "code",
   "execution_count": 29,
   "id": "79557706-99d1-41a6-95ca-4f051b27098d",
   "metadata": {},
   "outputs": [
    {
     "data": {
      "text/plain": [
       "Brand\n",
       "FunchCo     100.0\n",
       "Lego         35.0\n",
       "Techtoys     40.0\n",
       "Name: toy price, dtype: float64"
      ]
     },
     "execution_count": 29,
     "metadata": {},
     "output_type": "execute_result"
    }
   ],
   "source": [
    "rename_toys_df['Brand']=['Lego', 'Techtoys', 'Lego', 'FunchCo']\n",
    "\n",
    "average_price_by_brand=rename_toys_df.groupby('Brand')['toy price'].mean()\n",
    "average_price_by_brand"
   ]
  },
  {
   "cell_type": "markdown",
   "id": "58b57861-aa87-4d2e-9622-d4d998c055c5",
   "metadata": {},
   "source": [
    "# Filtering  toys that cost $20 or less"
   ]
  },
  {
   "cell_type": "code",
   "execution_count": 30,
   "id": "d2290052-13d8-466f-ad37-392ba5bd157c",
   "metadata": {},
   "outputs": [
    {
     "data": {
      "text/html": [
       "<div>\n",
       "<style scoped>\n",
       "    .dataframe tbody tr th:only-of-type {\n",
       "        vertical-align: middle;\n",
       "    }\n",
       "\n",
       "    .dataframe tbody tr th {\n",
       "        vertical-align: top;\n",
       "    }\n",
       "\n",
       "    .dataframe thead th {\n",
       "        text-align: right;\n",
       "    }\n",
       "</style>\n",
       "<table border=\"1\" class=\"dataframe\">\n",
       "  <thead>\n",
       "    <tr style=\"text-align: right;\">\n",
       "      <th></th>\n",
       "      <th>Toy name</th>\n",
       "      <th>toy price</th>\n",
       "      <th>Brand</th>\n",
       "    </tr>\n",
       "  </thead>\n",
       "  <tbody>\n",
       "    <tr>\n",
       "      <th>0</th>\n",
       "      <td>teddy bear</td>\n",
       "      <td>20</td>\n",
       "      <td>Lego</td>\n",
       "    </tr>\n",
       "  </tbody>\n",
       "</table>\n",
       "</div>"
      ],
      "text/plain": [
       "     Toy name  toy price Brand\n",
       "0  teddy bear         20  Lego"
      ]
     },
     "execution_count": 30,
     "metadata": {},
     "output_type": "execute_result"
    }
   ],
   "source": [
    "afford_toys=rename_toys_df[rename_toys_df['toy price']<= 20]\n",
    "afford_toys"
   ]
  },
  {
   "cell_type": "markdown",
   "id": "74ac6021-17be-4579-a1c2-dade9558ebfd",
   "metadata": {},
   "source": [
    "# Resetting the index for the afford toys Dataframe"
   ]
  },
  {
   "cell_type": "code",
   "execution_count": 32,
   "id": "aa76b425-cada-4beb-b917-d03e1ea5fdec",
   "metadata": {},
   "outputs": [
    {
     "data": {
      "text/html": [
       "<div>\n",
       "<style scoped>\n",
       "    .dataframe tbody tr th:only-of-type {\n",
       "        vertical-align: middle;\n",
       "    }\n",
       "\n",
       "    .dataframe tbody tr th {\n",
       "        vertical-align: top;\n",
       "    }\n",
       "\n",
       "    .dataframe thead th {\n",
       "        text-align: right;\n",
       "    }\n",
       "</style>\n",
       "<table border=\"1\" class=\"dataframe\">\n",
       "  <thead>\n",
       "    <tr style=\"text-align: right;\">\n",
       "      <th></th>\n",
       "      <th>Toy name</th>\n",
       "      <th>toy price</th>\n",
       "      <th>Brand</th>\n",
       "    </tr>\n",
       "  </thead>\n",
       "  <tbody>\n",
       "    <tr>\n",
       "      <th>0</th>\n",
       "      <td>teddy bear</td>\n",
       "      <td>20</td>\n",
       "      <td>Lego</td>\n",
       "    </tr>\n",
       "  </tbody>\n",
       "</table>\n",
       "</div>"
      ],
      "text/plain": [
       "     Toy name  toy price Brand\n",
       "0  teddy bear         20  Lego"
      ]
     },
     "execution_count": 32,
     "metadata": {},
     "output_type": "execute_result"
    }
   ],
   "source": [
    "affordable_toys_reset=afford_toys.reset_index(drop=True)\n",
    "affordable_toys_reset"
   ]
  },
  {
   "cell_type": "markdown",
   "id": "8af154e9-405d-42db-8ca7-432c7d33832c",
   "metadata": {},
   "source": [
    "# Creating a new dataframe with toy reviews"
   ]
  },
  {
   "cell_type": "code",
   "execution_count": 37,
   "id": "36923bce-cfdd-4c7b-bcbf-706440df3738",
   "metadata": {},
   "outputs": [
    {
     "data": {
      "text/html": [
       "<div>\n",
       "<style scoped>\n",
       "    .dataframe tbody tr th:only-of-type {\n",
       "        vertical-align: middle;\n",
       "    }\n",
       "\n",
       "    .dataframe tbody tr th {\n",
       "        vertical-align: top;\n",
       "    }\n",
       "\n",
       "    .dataframe thead th {\n",
       "        text-align: right;\n",
       "    }\n",
       "</style>\n",
       "<table border=\"1\" class=\"dataframe\">\n",
       "  <thead>\n",
       "    <tr style=\"text-align: right;\">\n",
       "      <th></th>\n",
       "      <th>Toy name</th>\n",
       "      <th>toy price</th>\n",
       "      <th>Brand</th>\n",
       "      <th>review</th>\n",
       "    </tr>\n",
       "  </thead>\n",
       "  <tbody>\n",
       "    <tr>\n",
       "      <th>0</th>\n",
       "      <td>teddy bear</td>\n",
       "      <td>20</td>\n",
       "      <td>Lego</td>\n",
       "      <td>love it!</td>\n",
       "    </tr>\n",
       "    <tr>\n",
       "      <th>1</th>\n",
       "      <td>robot</td>\n",
       "      <td>40</td>\n",
       "      <td>Techtoys</td>\n",
       "      <td>super cool!</td>\n",
       "    </tr>\n",
       "    <tr>\n",
       "      <th>2</th>\n",
       "      <td>car</td>\n",
       "      <td>50</td>\n",
       "      <td>Lego</td>\n",
       "      <td>fun and challenging</td>\n",
       "    </tr>\n",
       "    <tr>\n",
       "      <th>3</th>\n",
       "      <td>mobile</td>\n",
       "      <td>100</td>\n",
       "      <td>FunchCo</td>\n",
       "      <td>good</td>\n",
       "    </tr>\n",
       "  </tbody>\n",
       "</table>\n",
       "</div>"
      ],
      "text/plain": [
       "     Toy name  toy price     Brand               review\n",
       "0  teddy bear         20      Lego             love it!\n",
       "1       robot         40  Techtoys          super cool!\n",
       "2         car         50      Lego  fun and challenging\n",
       "3      mobile        100   FunchCo                 good"
      ]
     },
     "execution_count": 37,
     "metadata": {},
     "output_type": "execute_result"
    }
   ],
   "source": [
    "reviews_data={\n",
    "    'Toy name':['teddy bear', 'robot', 'car', 'mobile'],\n",
    "    'review':['love it!', 'super cool!', 'fun and challenging', 'good']\n",
    "}\n",
    "\n",
    "reviews_df=pd.DataFrame(reviews_data)\n",
    "\n",
    "\n",
    "#combine the toy prices and reviews ataframe\n",
    "combine_df=pd.merge(rename_toys_df, reviews_df, on='Toy name', how='left')\n",
    "combine_df"
   ]
  },
  {
   "cell_type": "markdown",
   "id": "935c9f40-7602-437a-a6eb-1102bee82770",
   "metadata": {},
   "source": [
    "# Filling in missing reviews with 'no reviews yet'"
   ]
  },
  {
   "cell_type": "code",
   "execution_count": 42,
   "id": "14ff2b71-3e12-41c2-8acc-300ece34e5ff",
   "metadata": {},
   "outputs": [
    {
     "data": {
      "text/html": [
       "<div>\n",
       "<style scoped>\n",
       "    .dataframe tbody tr th:only-of-type {\n",
       "        vertical-align: middle;\n",
       "    }\n",
       "\n",
       "    .dataframe tbody tr th {\n",
       "        vertical-align: top;\n",
       "    }\n",
       "\n",
       "    .dataframe thead th {\n",
       "        text-align: right;\n",
       "    }\n",
       "</style>\n",
       "<table border=\"1\" class=\"dataframe\">\n",
       "  <thead>\n",
       "    <tr style=\"text-align: right;\">\n",
       "      <th></th>\n",
       "      <th>Toy name</th>\n",
       "      <th>toy price</th>\n",
       "      <th>Brand</th>\n",
       "      <th>review</th>\n",
       "      <th>price category</th>\n",
       "    </tr>\n",
       "  </thead>\n",
       "  <tbody>\n",
       "    <tr>\n",
       "      <th>0</th>\n",
       "      <td>teddy bear</td>\n",
       "      <td>20</td>\n",
       "      <td>Lego</td>\n",
       "      <td>love it!</td>\n",
       "      <td>afforable</td>\n",
       "    </tr>\n",
       "    <tr>\n",
       "      <th>1</th>\n",
       "      <td>robot</td>\n",
       "      <td>40</td>\n",
       "      <td>Techtoys</td>\n",
       "      <td>super cool!</td>\n",
       "      <td>expensive</td>\n",
       "    </tr>\n",
       "    <tr>\n",
       "      <th>2</th>\n",
       "      <td>car</td>\n",
       "      <td>50</td>\n",
       "      <td>Lego</td>\n",
       "      <td>fun and challenging</td>\n",
       "      <td>expensive</td>\n",
       "    </tr>\n",
       "    <tr>\n",
       "      <th>3</th>\n",
       "      <td>mobile</td>\n",
       "      <td>100</td>\n",
       "      <td>FunchCo</td>\n",
       "      <td>good</td>\n",
       "      <td>expensive</td>\n",
       "    </tr>\n",
       "  </tbody>\n",
       "</table>\n",
       "</div>"
      ],
      "text/plain": [
       "     Toy name  toy price     Brand               review price category\n",
       "0  teddy bear         20      Lego             love it!      afforable\n",
       "1       robot         40  Techtoys          super cool!      expensive\n",
       "2         car         50      Lego  fun and challenging      expensive\n",
       "3      mobile        100   FunchCo                 good      expensive"
      ]
     },
     "execution_count": 42,
     "metadata": {},
     "output_type": "execute_result"
    }
   ],
   "source": [
    "combine_df['review']=combine_df['review'].fillna('no review yet')\n",
    "combine_df"
   ]
  },
  {
   "cell_type": "markdown",
   "id": "6c7baa30-a5a4-4441-8d98-d2098b761b1f",
   "metadata": {},
   "source": [
    "# Creating a new column'price category'"
   ]
  },
  {
   "cell_type": "code",
   "execution_count": 39,
   "id": "58933cf5-062f-46fd-8bff-339ed41b2d6d",
   "metadata": {},
   "outputs": [
    {
     "data": {
      "text/html": [
       "<div>\n",
       "<style scoped>\n",
       "    .dataframe tbody tr th:only-of-type {\n",
       "        vertical-align: middle;\n",
       "    }\n",
       "\n",
       "    .dataframe tbody tr th {\n",
       "        vertical-align: top;\n",
       "    }\n",
       "\n",
       "    .dataframe thead th {\n",
       "        text-align: right;\n",
       "    }\n",
       "</style>\n",
       "<table border=\"1\" class=\"dataframe\">\n",
       "  <thead>\n",
       "    <tr style=\"text-align: right;\">\n",
       "      <th></th>\n",
       "      <th>Toy name</th>\n",
       "      <th>toy price</th>\n",
       "      <th>Brand</th>\n",
       "      <th>review</th>\n",
       "      <th>price category</th>\n",
       "    </tr>\n",
       "  </thead>\n",
       "  <tbody>\n",
       "    <tr>\n",
       "      <th>0</th>\n",
       "      <td>teddy bear</td>\n",
       "      <td>20</td>\n",
       "      <td>Lego</td>\n",
       "      <td>love it!</td>\n",
       "      <td>afforable</td>\n",
       "    </tr>\n",
       "    <tr>\n",
       "      <th>1</th>\n",
       "      <td>robot</td>\n",
       "      <td>40</td>\n",
       "      <td>Techtoys</td>\n",
       "      <td>super cool!</td>\n",
       "      <td>expensive</td>\n",
       "    </tr>\n",
       "    <tr>\n",
       "      <th>2</th>\n",
       "      <td>car</td>\n",
       "      <td>50</td>\n",
       "      <td>Lego</td>\n",
       "      <td>fun and challenging</td>\n",
       "      <td>expensive</td>\n",
       "    </tr>\n",
       "    <tr>\n",
       "      <th>3</th>\n",
       "      <td>mobile</td>\n",
       "      <td>100</td>\n",
       "      <td>FunchCo</td>\n",
       "      <td>good</td>\n",
       "      <td>expensive</td>\n",
       "    </tr>\n",
       "  </tbody>\n",
       "</table>\n",
       "</div>"
      ],
      "text/plain": [
       "     Toy name  toy price     Brand               review price category\n",
       "0  teddy bear         20      Lego             love it!      afforable\n",
       "1       robot         40  Techtoys          super cool!      expensive\n",
       "2         car         50      Lego  fun and challenging      expensive\n",
       "3      mobile        100   FunchCo                 good      expensive"
      ]
     },
     "execution_count": 39,
     "metadata": {},
     "output_type": "execute_result"
    }
   ],
   "source": [
    "combine_df['price category']=['expensive' if price > 20 else 'afforable' for price in combine_df['toy price']]\n",
    "combine_df                             "
   ]
  },
  {
   "cell_type": "markdown",
   "id": "3903e4a9-a24e-4c8c-b300-5313d3d9e352",
   "metadata": {},
   "source": [
    "# Drop the brand column"
   ]
  },
  {
   "cell_type": "code",
   "execution_count": 40,
   "id": "6dca8963-827d-48ca-80d6-6dd4ca0e8255",
   "metadata": {},
   "outputs": [
    {
     "data": {
      "text/html": [
       "<div>\n",
       "<style scoped>\n",
       "    .dataframe tbody tr th:only-of-type {\n",
       "        vertical-align: middle;\n",
       "    }\n",
       "\n",
       "    .dataframe tbody tr th {\n",
       "        vertical-align: top;\n",
       "    }\n",
       "\n",
       "    .dataframe thead th {\n",
       "        text-align: right;\n",
       "    }\n",
       "</style>\n",
       "<table border=\"1\" class=\"dataframe\">\n",
       "  <thead>\n",
       "    <tr style=\"text-align: right;\">\n",
       "      <th></th>\n",
       "      <th>Toy name</th>\n",
       "      <th>toy price</th>\n",
       "      <th>review</th>\n",
       "      <th>price category</th>\n",
       "    </tr>\n",
       "  </thead>\n",
       "  <tbody>\n",
       "    <tr>\n",
       "      <th>0</th>\n",
       "      <td>teddy bear</td>\n",
       "      <td>20</td>\n",
       "      <td>love it!</td>\n",
       "      <td>afforable</td>\n",
       "    </tr>\n",
       "    <tr>\n",
       "      <th>1</th>\n",
       "      <td>robot</td>\n",
       "      <td>40</td>\n",
       "      <td>super cool!</td>\n",
       "      <td>expensive</td>\n",
       "    </tr>\n",
       "    <tr>\n",
       "      <th>2</th>\n",
       "      <td>car</td>\n",
       "      <td>50</td>\n",
       "      <td>fun and challenging</td>\n",
       "      <td>expensive</td>\n",
       "    </tr>\n",
       "    <tr>\n",
       "      <th>3</th>\n",
       "      <td>mobile</td>\n",
       "      <td>100</td>\n",
       "      <td>good</td>\n",
       "      <td>expensive</td>\n",
       "    </tr>\n",
       "  </tbody>\n",
       "</table>\n",
       "</div>"
      ],
      "text/plain": [
       "     Toy name  toy price               review price category\n",
       "0  teddy bear         20             love it!      afforable\n",
       "1       robot         40          super cool!      expensive\n",
       "2         car         50  fun and challenging      expensive\n",
       "3      mobile        100                 good      expensive"
      ]
     },
     "execution_count": 40,
     "metadata": {},
     "output_type": "execute_result"
    }
   ],
   "source": [
    "combine_df_brand=combine_df.drop(columns=['Brand'])\n",
    "combine_df_brand"
   ]
  },
  {
   "cell_type": "markdown",
   "id": "62fbc828-0504-472a-a08f-4f22bfdb3b04",
   "metadata": {},
   "source": [
    "# Save and Read the DataFrame to a CSV file"
   ]
  },
  {
   "cell_type": "code",
   "execution_count": 46,
   "id": "bb45b712-2d4e-4afe-a59d-ffe4b0af7cb3",
   "metadata": {},
   "outputs": [
    {
     "data": {
      "text/html": [
       "<div>\n",
       "<style scoped>\n",
       "    .dataframe tbody tr th:only-of-type {\n",
       "        vertical-align: middle;\n",
       "    }\n",
       "\n",
       "    .dataframe tbody tr th {\n",
       "        vertical-align: top;\n",
       "    }\n",
       "\n",
       "    .dataframe thead th {\n",
       "        text-align: right;\n",
       "    }\n",
       "</style>\n",
       "<table border=\"1\" class=\"dataframe\">\n",
       "  <thead>\n",
       "    <tr style=\"text-align: right;\">\n",
       "      <th></th>\n",
       "      <th>Toy name</th>\n",
       "      <th>toy price</th>\n",
       "      <th>review</th>\n",
       "      <th>price category</th>\n",
       "    </tr>\n",
       "  </thead>\n",
       "  <tbody>\n",
       "    <tr>\n",
       "      <th>0</th>\n",
       "      <td>teddy bear</td>\n",
       "      <td>20</td>\n",
       "      <td>love it!</td>\n",
       "      <td>afforable</td>\n",
       "    </tr>\n",
       "    <tr>\n",
       "      <th>1</th>\n",
       "      <td>robot</td>\n",
       "      <td>40</td>\n",
       "      <td>super cool!</td>\n",
       "      <td>expensive</td>\n",
       "    </tr>\n",
       "    <tr>\n",
       "      <th>2</th>\n",
       "      <td>car</td>\n",
       "      <td>50</td>\n",
       "      <td>fun and challenging</td>\n",
       "      <td>expensive</td>\n",
       "    </tr>\n",
       "    <tr>\n",
       "      <th>3</th>\n",
       "      <td>mobile</td>\n",
       "      <td>100</td>\n",
       "      <td>good</td>\n",
       "      <td>expensive</td>\n",
       "    </tr>\n",
       "  </tbody>\n",
       "</table>\n",
       "</div>"
      ],
      "text/plain": [
       "     Toy name  toy price               review price category\n",
       "0  teddy bear         20             love it!      afforable\n",
       "1       robot         40          super cool!      expensive\n",
       "2         car         50  fun and challenging      expensive\n",
       "3      mobile        100                 good      expensive"
      ]
     },
     "execution_count": 46,
     "metadata": {},
     "output_type": "execute_result"
    }
   ],
   "source": [
    "#saving the dataframe to a csv file\n",
    "combine_df_brand.to_csv('toys_data.csv', index=False)\n",
    "\n",
    "#reading data from the csv file\n",
    "read_toys_df=pd.read_csv('toys_data.csv')\n",
    "read_toys_df"
   ]
  },
  {
   "cell_type": "markdown",
   "id": "48954e72-92c7-43ae-9467-4558dd24159a",
   "metadata": {},
   "source": [
    "# Getting descriptive statistics for the 'price' column"
   ]
  },
  {
   "cell_type": "code",
   "execution_count": 48,
   "id": "07f09aa0-5309-4a59-92c1-a464bb071034",
   "metadata": {},
   "outputs": [
    {
     "data": {
      "text/plain": [
       "count      4.000000\n",
       "mean      52.500000\n",
       "std       34.034296\n",
       "min       20.000000\n",
       "25%       35.000000\n",
       "50%       45.000000\n",
       "75%       62.500000\n",
       "max      100.000000\n",
       "Name: toy price, dtype: float64"
      ]
     },
     "execution_count": 48,
     "metadata": {},
     "output_type": "execute_result"
    }
   ],
   "source": [
    "price_state=read_toys_df['toy price'].describe()\n",
    "price_state"
   ]
  },
  {
   "cell_type": "markdown",
   "id": "8ec63a03-3ff9-4051-8d55-bbba156363d6",
   "metadata": {},
   "source": [
    "# Getting unique reviews from 'review' column"
   ]
  },
  {
   "cell_type": "code",
   "execution_count": 50,
   "id": "9760a1df-1608-4d3e-974b-8d6b97794cca",
   "metadata": {},
   "outputs": [
    {
     "data": {
      "text/plain": [
       "array(['love it!', 'super cool!', 'fun and challenging', 'good'],\n",
       "      dtype=object)"
      ]
     },
     "execution_count": 50,
     "metadata": {},
     "output_type": "execute_result"
    }
   ],
   "source": [
    "unique_review=read_toys_df['review'].unique()\n",
    "unique_review"
   ]
  },
  {
   "cell_type": "code",
   "execution_count": null,
   "id": "d3c279ea-cc03-4351-99fd-37f1406b3f89",
   "metadata": {},
   "outputs": [],
   "source": []
  }
 ],
 "metadata": {
  "kernelspec": {
   "display_name": "Python 3 (ipykernel)",
   "language": "python",
   "name": "python3"
  },
  "language_info": {
   "codemirror_mode": {
    "name": "ipython",
    "version": 3
   },
   "file_extension": ".py",
   "mimetype": "text/x-python",
   "name": "python",
   "nbconvert_exporter": "python",
   "pygments_lexer": "ipython3",
   "version": "3.12.2"
  }
 },
 "nbformat": 4,
 "nbformat_minor": 5
}
